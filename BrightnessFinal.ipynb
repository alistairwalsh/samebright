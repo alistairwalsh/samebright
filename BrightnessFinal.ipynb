{
 "metadata": {
  "name": ""
 },
 "nbformat": 3,
 "nbformat_minor": 0,
 "worksheets": [
  {
   "cells": [
    {
     "cell_type": "code",
     "collapsed": false,
     "input": [
      "im_file = 'hug_me.tiff'"
     ],
     "language": "python",
     "metadata": {},
     "outputs": [],
     "prompt_number": 7
    },
    {
     "cell_type": "code",
     "collapsed": false,
     "input": [
      "def brightness( im_file ):\n",
      "   im = Image.open(im_file).convert('L')\n",
      "   stat = ImageStat.Stat(im)\n",
      "   return stat.mean[0]"
     ],
     "language": "python",
     "metadata": {},
     "outputs": [],
     "prompt_number": 8
    },
    {
     "cell_type": "code",
     "collapsed": false,
     "input": [
      "def brightness( im_file ):\n",
      "   im = Image.open(im_file).convert('L')\n",
      "   stat = ImageStat.Stat(im)\n",
      "   return stat.rms[0]"
     ],
     "language": "python",
     "metadata": {},
     "outputs": []
    },
    {
     "cell_type": "code",
     "collapsed": false,
     "input": [
      "def brightness( im_file ):\n",
      "   im = Image.open(im_file)\n",
      "   stat = ImageStat.Stat(im)\n",
      "   r,g,b = stat.mean\n",
      "   return math.sqrt(0.241*(r**2) + 0.691*(g**2) + 0.068*(b**2))\n"
     ],
     "language": "python",
     "metadata": {},
     "outputs": []
    },
    {
     "cell_type": "code",
     "collapsed": false,
     "input": [
      "def brightness( im_file ):\n",
      "   im = Image.open(im_file)\n",
      "   stat = ImageStat.Stat(im)\n",
      "   r,g,b = stat.rms\n",
      "   return math.sqrt(0.241*(r**2) + 0.691(g**2) + 0.068*(b**2))"
     ],
     "language": "python",
     "metadata": {},
     "outputs": []
    },
    {
     "cell_type": "code",
     "collapsed": false,
     "input": [
      "def brightness( im_file ):\n",
      "   im = Image.open(im_file)\n",
      "   stat = ImageStat.Stat(im)\n",
      "   gs = (math.sqrt(0.241*(r**2) + 0.691*(g**2) + 0.068*(b**2)) \n",
      "         for r,g,b in im.getdata())\n",
      "   return sum(gs)/stat.count[0]"
     ],
     "language": "python",
     "metadata": {},
     "outputs": []
    },
    {
     "cell_type": "code",
     "collapsed": false,
     "input": [
      "def brightness( im_file ):\n",
      "   im = Image.open(im_file).convert('L')\n",
      "   stat = ImageStat.Stat(im)\n",
      "   return stat.mean[0]"
     ],
     "language": "python",
     "metadata": {},
     "outputs": [],
     "prompt_number": 2
    },
    {
     "cell_type": "code",
     "collapsed": false,
     "input": [
      "%pylab inline"
     ],
     "language": "python",
     "metadata": {},
     "outputs": [
      {
       "output_type": "stream",
       "stream": "stdout",
       "text": [
        "Populating the interactive namespace from numpy and matplotlib\n"
       ]
      }
     ],
     "prompt_number": 34
    },
    {
     "cell_type": "code",
     "collapsed": false,
     "input": [
      "from PIL import Image\n",
      "from PIL import ImageStat\n",
      "import os\n",
      "import os.path\n",
      "\n",
      "directory = '/Users/Wintermute/desktop/cat_tiffs/'\n",
      "intense = []\n",
      "\n",
      "for fname in os.listdir('/Users/Wintermute/desktop/cat_tiffs/'):\n",
      "    #im = Image.open(directory+fname)\n",
      "    #im.show(im)\n",
      "    #print fname\n",
      "    bright = brightness(str(directory+fname))\n",
      "    #print bright\n",
      "    intense.append([fname, bright])\n"
     ],
     "language": "python",
     "metadata": {},
     "outputs": [],
     "prompt_number": 3
    },
    {
     "cell_type": "code",
     "collapsed": false,
     "input": [
      "intense"
     ],
     "language": "python",
     "metadata": {},
     "outputs": [
      {
       "metadata": {},
       "output_type": "pyout",
       "prompt_number": 4,
       "text": [
        "[['I_Really_Hate_Bath_Time96.tiff', 98.45656041666666],\n",
        " ['I_See_That84.tiff', 60.2563811922754],\n",
        " ['Im_Doing_Some_Work.tiff', 112.35422374429224],\n",
        " ['Listening_To_Musics.tiff', 99.66028148148148],\n",
        " ['Mewbacca..tiff', 90.98899964272955]]"
       ]
      }
     ],
     "prompt_number": 4
    },
    {
     "cell_type": "code",
     "collapsed": false,
     "input": [
      "for name, brightness in intense:\n",
      "    print name, brightness"
     ],
     "language": "python",
     "metadata": {},
     "outputs": [
      {
       "output_type": "stream",
       "stream": "stdout",
       "text": [
        "I_Really_Hate_Bath_Time96.tiff\n",
        "98.4565604167\n",
        "I_See_That84.tiff\n",
        "60.2563811923\n",
        "Im_Doing_Some_Work.tiff\n",
        "112.354223744\n",
        "Listening_To_Musics.tiff\n",
        "99.6602814815\n",
        "Mewbacca..tiff\n",
        "90.9889996427\n"
       ]
      }
     ],
     "prompt_number": 7
    },
    {
     "cell_type": "code",
     "collapsed": false,
     "input": [
      "pwd"
     ],
     "language": "python",
     "metadata": {},
     "outputs": [
      {
       "metadata": {},
       "output_type": "pyout",
       "prompt_number": 13,
       "text": [
        "u'/Users/Wintermute'"
       ]
      }
     ],
     "prompt_number": 13
    },
    {
     "cell_type": "code",
     "collapsed": false,
     "input": [
      "im.convert?"
     ],
     "language": "python",
     "metadata": {},
     "outputs": [],
     "prompt_number": 37
    },
    {
     "cell_type": "code",
     "collapsed": false,
     "input": [
      "ImageStat.Stat?\n"
     ],
     "language": "python",
     "metadata": {},
     "outputs": [],
     "prompt_number": 5
    },
    {
     "cell_type": "code",
     "collapsed": false,
     "input": [
      "pwd\n"
     ],
     "language": "python",
     "metadata": {},
     "outputs": [
      {
       "metadata": {},
       "output_type": "pyout",
       "prompt_number": 1,
       "text": [
        "u'/Users/Wintermute'"
       ]
      }
     ],
     "prompt_number": 1
    },
    {
     "cell_type": "code",
     "collapsed": false,
     "input": [
      "ls"
     ],
     "language": "python",
     "metadata": {},
     "outputs": [
      {
       "output_type": "stream",
       "stream": "stdout",
       "text": [
        "A quick tour of IPython Notebook.ipynb  \u001b[34mCopy\u001b[m\u001b[m/                                   \u001b[34mPictures\u001b[m\u001b[m/                               \u001b[34mflask-workshop\u001b[m\u001b[m/                         plotHRV.synctex.gz\r\n",
        "AT.postflight.1283                      \u001b[34mDesktop\u001b[m\u001b[m/                                Plotting Arduino Data.ipynb             hug_me.tiff                             plotHRV.tex\r\n",
        "AT.postflight.905                       \u001b[34mDocuments\u001b[m\u001b[m/                              \u001b[34mPublic\u001b[m\u001b[m/                                 hug_your_cat_day.jpg                    \u001b[34mplotHRV_files\u001b[m\u001b[m/\r\n",
        "\u001b[34mApplications\u001b[m\u001b[m/                           \u001b[34mDownloads\u001b[m\u001b[m/                              \u001b[34mRabbit\u001b[m\u001b[m/                                 \u001b[34mlabstreaminglayer\u001b[m\u001b[m/                      plotingData.ipynb\r\n",
        "Arduino_pyserial.ipynb                  \u001b[34mDropbox\u001b[m\u001b[m/                                \u001b[34mSites\u001b[m\u001b[m/                                  list.txt                                pyserial list ports.ipynb\r\n",
        "BITalino.ipynb                          Flask.ipynb                             Stats Model Example.ipynb               \u001b[34mopenscience\u001b[m\u001b[m/                            \u001b[34mrstudio-diagnostics\u001b[m\u001b[m/\r\n",
        "BitalinoOSX.ipynb                       GSR_GUI.ipynb                           \u001b[34mUppercaseMaker\u001b[m\u001b[m/                         plotHRV.aux                             \u001b[34mtutorial\u001b[m\u001b[m/\r\n",
        "\u001b[34mBox Sync\u001b[m\u001b[m/                               \u001b[34mLibrary\u001b[m\u001b[m/                                \u001b[34mVirtualBox VMs\u001b[m\u001b[m/                         plotHRV.idx                             wx_mpl_dynamic_graph.ipynb\r\n",
        "Brightness.ipynb                        \u001b[34mMovies\u001b[m\u001b[m/                                 \u001b[34manaconda\u001b[m\u001b[m/                               plotHRV.ipynb\r\n",
        "BrightnessContinued.ipynb               \u001b[34mMusic\u001b[m\u001b[m/                                  \u001b[34marduino-api\u001b[m\u001b[m/                            plotHRV.log\r\n",
        "BrightnessFinal.ipynb                   Numpy.ipynb                             detect serial port py3k.ipynb           plotHRV.out\r\n",
        "BrightnessHacking.ipynb                 OpenTechSchool.ipynb                    domino.log                              plotHRV.pdf\r\n"
       ]
      }
     ],
     "prompt_number": 2
    },
    {
     "cell_type": "code",
     "collapsed": false,
     "input": [
      "cd Sites/\n"
     ],
     "language": "python",
     "metadata": {},
     "outputs": [
      {
       "output_type": "stream",
       "stream": "stdout",
       "text": [
        "/Users/Wintermute/Sites\n"
       ]
      }
     ],
     "prompt_number": 3
    },
    {
     "cell_type": "code",
     "collapsed": false,
     "input": [
      "ls"
     ],
     "language": "python",
     "metadata": {},
     "outputs": [],
     "prompt_number": 4
    },
    {
     "cell_type": "code",
     "collapsed": false,
     "input": [
      "cd ..\n"
     ],
     "language": "python",
     "metadata": {},
     "outputs": [
      {
       "output_type": "stream",
       "stream": "stdout",
       "text": [
        "/Users/Wintermute\n"
       ]
      }
     ],
     "prompt_number": 5
    },
    {
     "cell_type": "code",
     "collapsed": false,
     "input": [
      "ls"
     ],
     "language": "python",
     "metadata": {},
     "outputs": [
      {
       "output_type": "stream",
       "stream": "stdout",
       "text": [
        "A quick tour of IPython Notebook.ipynb  \u001b[34mCopy\u001b[m\u001b[m/                                   \u001b[34mPictures\u001b[m\u001b[m/                               \u001b[34mflask-workshop\u001b[m\u001b[m/                         plotHRV.synctex.gz\r\n",
        "AT.postflight.1283                      \u001b[34mDesktop\u001b[m\u001b[m/                                Plotting Arduino Data.ipynb             hug_me.tiff                             plotHRV.tex\r\n",
        "AT.postflight.905                       \u001b[34mDocuments\u001b[m\u001b[m/                              \u001b[34mPublic\u001b[m\u001b[m/                                 hug_your_cat_day.jpg                    \u001b[34mplotHRV_files\u001b[m\u001b[m/\r\n",
        "\u001b[34mApplications\u001b[m\u001b[m/                           \u001b[34mDownloads\u001b[m\u001b[m/                              \u001b[34mRabbit\u001b[m\u001b[m/                                 \u001b[34mlabstreaminglayer\u001b[m\u001b[m/                      plotingData.ipynb\r\n",
        "Arduino_pyserial.ipynb                  \u001b[34mDropbox\u001b[m\u001b[m/                                \u001b[34mSites\u001b[m\u001b[m/                                  list.txt                                pyserial list ports.ipynb\r\n",
        "BITalino.ipynb                          Flask.ipynb                             Stats Model Example.ipynb               \u001b[34mopenscience\u001b[m\u001b[m/                            \u001b[34mrstudio-diagnostics\u001b[m\u001b[m/\r\n",
        "BitalinoOSX.ipynb                       GSR_GUI.ipynb                           \u001b[34mUppercaseMaker\u001b[m\u001b[m/                         plotHRV.aux                             \u001b[34mtutorial\u001b[m\u001b[m/\r\n",
        "\u001b[34mBox Sync\u001b[m\u001b[m/                               \u001b[34mLibrary\u001b[m\u001b[m/                                \u001b[34mVirtualBox VMs\u001b[m\u001b[m/                         plotHRV.idx                             wx_mpl_dynamic_graph.ipynb\r\n",
        "Brightness.ipynb                        \u001b[34mMovies\u001b[m\u001b[m/                                 \u001b[34manaconda\u001b[m\u001b[m/                               plotHRV.ipynb\r\n",
        "BrightnessContinued.ipynb               \u001b[34mMusic\u001b[m\u001b[m/                                  \u001b[34marduino-api\u001b[m\u001b[m/                            plotHRV.log\r\n",
        "BrightnessFinal.ipynb                   Numpy.ipynb                             detect serial port py3k.ipynb           plotHRV.out\r\n",
        "BrightnessHacking.ipynb                 OpenTechSchool.ipynb                    domino.log                              plotHRV.pdf\r\n"
       ]
      }
     ],
     "prompt_number": 6
    },
    {
     "cell_type": "code",
     "collapsed": false,
     "input": [],
     "language": "python",
     "metadata": {},
     "outputs": []
    }
   ],
   "metadata": {}
  }
 ]
}