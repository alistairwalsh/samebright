{
 "metadata": {
  "name": "",
  "signature": "sha256:38782b9742bb624b23e9c361fe4b8b296ea1042575f69418e4c01a1a3b3dc85a"
 },
 "nbformat": 3,
 "nbformat_minor": 0,
 "worksheets": [
  {
   "cells": [
    {
     "cell_type": "heading",
     "level": 1,
     "metadata": {
      "slideshow": {
       "slide_type": "slide"
      }
     },
     "source": [
      "Hacking on the Brightness problem"
     ]
    },
    {
     "cell_type": "code",
     "collapsed": false,
     "input": [
      "while True:\n",
      "    line = raw_input('> ') \n",
      "    if line[0] == '#' :\n",
      "        continue\n",
      "    if line == 'done':\n",
      "        break \n",
      "    print line\n",
      "print 'Done!'"
     ],
     "language": "python",
     "metadata": {
      "slideshow": {
       "slide_type": "slide"
      }
     },
     "outputs": [
      {
       "name": "stdout",
       "output_type": "stream",
       "stream": "stdout",
       "text": [
        "> hello\n"
       ]
      },
      {
       "output_type": "stream",
       "stream": "stdout",
       "text": [
        "hello\n"
       ]
      },
      {
       "name": "stdout",
       "output_type": "stream",
       "stream": "stdout",
       "text": [
        "> #\n"
       ]
      },
      {
       "name": "stdout",
       "output_type": "stream",
       "stream": "stdout",
       "text": [
        "> #\n"
       ]
      },
      {
       "name": "stdout",
       "output_type": "stream",
       "stream": "stdout",
       "text": [
        "> what are you\n"
       ]
      },
      {
       "output_type": "stream",
       "stream": "stdout",
       "text": [
        "what are you\n"
       ]
      },
      {
       "name": "stdout",
       "output_type": "stream",
       "stream": "stdout",
       "text": [
        "> done\n"
       ]
      },
      {
       "output_type": "stream",
       "stream": "stdout",
       "text": [
        "Done!\n"
       ]
      }
     ],
     "prompt_number": 2
    },
    {
     "cell_type": "markdown",
     "metadata": {},
     "source": [
      "The code above can be used in the Pulse sensor software to detect the leading letter ('S','B','Q') and direct different actions "
     ]
    },
    {
     "cell_type": "markdown",
     "metadata": {},
     "source": [
      "once a list of files has been made "
     ]
    },
    {
     "cell_type": "code",
     "collapsed": false,
     "input": [
      "\n",
      "import os\n",
      "import os.path\n",
      "\n",
      "for dirpath, dirnames, filenames in os.walk(\".\"):\n",
      "    for filename in [f for f in filenames if f.endswith(\".log\")]:\n",
      "        print os.path.join(dirpath, filename)"
     ],
     "language": "python",
     "metadata": {},
     "outputs": [
      {
       "output_type": "stream",
       "stream": "stdout",
       "text": [
        "./DSTO_Final (divide5@gmail.com)/tufte-latex-3.5.0/DSTO_final.log\n",
        "./DSTO_Final (divide5@gmail.com)/tufte-latex-3.5.0/sample-book.log\n",
        "./DSTO_Final (divide5@gmail.com)/tufte-latex-3.5.0/sample-handout.log\n",
        "./DSTO_Final (divide5@gmail.com)/tufte-latex-3.5.0/chapter1/DSTO_GSR_bak/GSR.log\n",
        "./DSTO_Final (divide5@gmail.com)/tufte-latex-3.5.0/chapter1/DSTO_GSR_bak/intro_GSR.log\n",
        "./DSTO_Final (divide5@gmail.com)/tufte-latex-3.5.0/chapter1/DSTO_GSR_bak/outline_GSR.log\n",
        "./DSTO_Final (divide5@gmail.com)/tufte-latex-3.5.0/chapter1/DSTO_GSR_bak/template_1.log\n",
        "./DSTO_Final (divide5@gmail.com)/tufte-latex-3.5.0/chapter1/DSTO_GSR_bak/work_plan_task1.log\n",
        "./DSTO_Final (divide5@gmail.com)/tufte-latex-3.5.0/chapter2/comparisonHRV/comparisonHRV.log"
       ]
      },
      {
       "output_type": "stream",
       "stream": "stdout",
       "text": [
        "\n",
        "./DSTO_Final (divide5@gmail.com)/tufte-latex-3.5.0/chapter2/lab_notes/December13.log"
       ]
      },
      {
       "output_type": "stream",
       "stream": "stdout",
       "text": [
        "\n",
        "./DSTO_Final (divide5@gmail.com)/tufte-latex-3.5.0/chapter2/lab_notes/inputscreen.log\n",
        "./DSTO_Final (divide5@gmail.com)/tufte-latex-3.5.0/chapter2/R/test (al-RA-PC's conflicted copy 2014-02-17).log"
       ]
      },
      {
       "output_type": "stream",
       "stream": "stdout",
       "text": [
        "\n",
        "./DSTO_Final (divide5@gmail.com)/tufte-latex-3.5.0/chapter2/R/test.log\n",
        "./DSTO_Final (divide5@gmail.com)/tufte-latex-3.5.0/chapter2/R/DataOpenSensor/BitalinoData/Experiment1.log\n",
        "./DSTO_Final (divide5@gmail.com)/tufte-latex-3.5.0/chapter2/R/test2/Untitled.log\n",
        "./DSTO_Final (divide5@gmail.com)/tufte-latex-3.5.0/chapter2/R/test4/Untitled.log\n",
        "./DSTO_Final (divide5@gmail.com)/tufte-latex-3.5.0/chapter2/report/DSTO_EKG.log\n",
        "./DSTO_Final (divide5@gmail.com)/tufte-latex-3.5.0/chapter2/report/intro.log\n",
        "./DSTO_Final (divide5@gmail.com)/tufte-latex-3.5.0/chapter2/report/Sensors.log\n",
        "./DSTO_Final (divide5@gmail.com)/tufte-latex-3.5.0/chapter2/report/bibliography/texput.log\n",
        "./DSTO_Final (divide5@gmail.com)/tufte-latex-3.5.0/chapter4/lab_notes_nIR.log\n",
        "./DSTO_Final (divide5@gmail.com)/tufte-latex-3.5.0/diagrams/tikz_Practice.log\n",
        "./DSTO_Final (divide5@gmail.com)/tufte-latex-3.5.0/diagrams/GeoGebra/SqrWve.log\n",
        "./DSTO_Final (divide5@gmail.com)/tufte-latex-3.5.0/diagrams/GeoGebra/actual_LED/actual_LED.log\n",
        "./DSTO_Final (divide5@gmail.com)/tufte-latex-3.5.0/diagrams/GeoGebra/perfect_LED/sqrwve_rdln.log\n",
        "./DSTO_Final (divide5@gmail.com)/tufte-latex-3.5.0/diagrams/GeoGebra/perfect_LED/sqrwve_rdln2.log\n",
        "./DSTO_Final (divide5@gmail.com)/tufte-latex-3.5.0/graphics/drawing.log\n"
       ]
      }
     ],
     "prompt_number": 15
    },
    {
     "cell_type": "code",
     "collapsed": false,
     "input": [
      "os.walk?\n"
     ],
     "language": "python",
     "metadata": {},
     "outputs": [],
     "prompt_number": 20
    },
    {
     "cell_type": "code",
     "collapsed": false,
     "input": [
      "pwd"
     ],
     "language": "python",
     "metadata": {},
     "outputs": [
      {
       "metadata": {},
       "output_type": "pyout",
       "prompt_number": 11,
       "text": [
        "u'/Users/Wintermute'"
       ]
      }
     ],
     "prompt_number": 11
    },
    {
     "cell_type": "code",
     "collapsed": false,
     "input": [
      "%cd 'box sync'\n"
     ],
     "language": "python",
     "metadata": {},
     "outputs": [
      {
       "output_type": "stream",
       "stream": "stdout",
       "text": [
        "/Users/Wintermute/Box Sync\n"
       ]
      }
     ],
     "prompt_number": 13
    },
    {
     "cell_type": "code",
     "collapsed": false,
     "input": [
      "ls"
     ],
     "language": "python",
     "metadata": {},
     "outputs": [
      {
       "output_type": "stream",
       "stream": "stdout",
       "text": [
        "AlphaThetaIntro.php             FiveMinuteGuideToLaTeX.pdf      apaexample.tex\r\n",
        "\u001b[34mDSTO_Final (divide5@gmail.com)\u001b[m\u001b[m/ Hammond_b, 2005.pdf             article47.htm\r\n"
       ]
      }
     ],
     "prompt_number": 14
    },
    {
     "cell_type": "code",
     "collapsed": false,
     "input": [
      "os?\n"
     ],
     "language": "python",
     "metadata": {},
     "outputs": [],
     "prompt_number": 21
    },
    {
     "cell_type": "code",
     "collapsed": false,
     "input": [
      "listdir?"
     ],
     "language": "python",
     "metadata": {},
     "outputs": [
      {
       "output_type": "stream",
       "stream": "stdout",
       "text": [
        "Object `listdir` not found.\n"
       ]
      }
     ],
     "prompt_number": 22
    },
    {
     "cell_type": "code",
     "collapsed": false,
     "input": [
      "os.dir"
     ],
     "language": "python",
     "metadata": {},
     "outputs": [
      {
       "ename": "AttributeError",
       "evalue": "'module' object has no attribute 'dir'",
       "output_type": "pyerr",
       "traceback": [
        "\u001b[0;31m---------------------------------------------------------------------------\u001b[0m\n\u001b[0;31mAttributeError\u001b[0m                            Traceback (most recent call last)",
        "\u001b[0;32m<ipython-input-25-164bdf896284>\u001b[0m in \u001b[0;36m<module>\u001b[0;34m()\u001b[0m\n\u001b[0;32m----> 1\u001b[0;31m \u001b[0mos\u001b[0m\u001b[0;34m.\u001b[0m\u001b[0mdir\u001b[0m\u001b[0;34m\u001b[0m\u001b[0m\n\u001b[0m",
        "\u001b[0;31mAttributeError\u001b[0m: 'module' object has no attribute 'dir'"
       ]
      }
     ],
     "prompt_number": 25
    },
    {
     "cell_type": "code",
     "collapsed": false,
     "input": [
      "here = os.curdir\n",
      "os.listdir(here)"
     ],
     "language": "python",
     "metadata": {},
     "outputs": [
      {
       "metadata": {},
       "output_type": "pyout",
       "prompt_number": 31,
       "text": [
        "['.DS_Store',\n",
        " 'AlphaThetaIntro.php',\n",
        " 'apaexample.tex',\n",
        " 'article47.htm',\n",
        " 'DSTO_Final (divide5@gmail.com)',\n",
        " 'FiveMinuteGuideToLaTeX.pdf',\n",
        " 'Hammond_b, 2005.pdf']"
       ]
      }
     ],
     "prompt_number": 31
    },
    {
     "cell_type": "code",
     "collapsed": false,
     "input": [
      "print'brightness for files in the directory',os.getcwd()"
     ],
     "language": "python",
     "metadata": {},
     "outputs": [
      {
       "output_type": "stream",
       "stream": "stdout",
       "text": [
        "brightness for files in the directory /Users/Wintermute/Box Sync\n"
       ]
      }
     ],
     "prompt_number": 34
    },
    {
     "cell_type": "code",
     "collapsed": false,
     "input": [
      "%cd ../desktop"
     ],
     "language": "python",
     "metadata": {},
     "outputs": [
      {
       "output_type": "stream",
       "stream": "stdout",
       "text": [
        "/Users/Wintermute/Desktop\n"
       ]
      }
     ],
     "prompt_number": 35
    },
    {
     "cell_type": "code",
     "collapsed": false,
     "input": [
      "ls\n"
     ],
     "language": "python",
     "metadata": {},
     "outputs": [
      {
       "output_type": "stream",
       "stream": "stdout",
       "text": [
        "0018095.pdf\r\n",
        "Alistair Walsh.docx\r\n",
        "Brightness.html\r\n",
        "Py4Inf-05-Iterations.ppt\r\n",
        "Python Cookbook, 3rd Edition.pdf\r\n",
        "Statement of work with LOD DSTO Alistair Walsh.pdf\r\n",
        "\u001b[34mcat pictures\u001b[m\u001b[m/\r\n",
        "\u001b[34mpandoc-1.12.4.2-osx\u001b[m\u001b[m/\r\n",
        "pandoc-1.12.4.2-osx.zip\r\n"
       ]
      }
     ],
     "prompt_number": 36
    },
    {
     "cell_type": "code",
     "collapsed": false,
     "input": [
      "cd cat\\ pictures"
     ],
     "language": "python",
     "metadata": {},
     "outputs": [
      {
       "output_type": "stream",
       "stream": "stdout",
       "text": [
        "/Users/Wintermute/Desktop/cat pictures\n"
       ]
      }
     ],
     "prompt_number": 37
    },
    {
     "cell_type": "code",
     "collapsed": false,
     "input": [
      "ls\n"
     ],
     "language": "python",
     "metadata": {},
     "outputs": [
      {
       "output_type": "stream",
       "stream": "stdout",
       "text": [
        "I_Really_Hate_Bath_Time96.jpg  Im_Doing_Some_Work.jpg         Mewbacca.jpg\r\n",
        "I_See_That84.jpg               Listening_To_Musics.jpg\r\n"
       ]
      }
     ],
     "prompt_number": 38
    },
    {
     "cell_type": "code",
     "collapsed": false,
     "input": [
      "import PIL"
     ],
     "language": "python",
     "metadata": {},
     "outputs": [],
     "prompt_number": 45
    },
    {
     "cell_type": "code",
     "collapsed": false,
     "input": [
      "pilconvert -c TIF I_Really_Hate_Bath_Time96.jpg lena.tmp"
     ],
     "language": "python",
     "metadata": {},
     "outputs": [
      {
       "ename": "SyntaxError",
       "evalue": "invalid syntax (<ipython-input-46-6aaf0255a15e>, line 1)",
       "output_type": "pyerr",
       "traceback": [
        "\u001b[0;36m  File \u001b[0;32m\"<ipython-input-46-6aaf0255a15e>\"\u001b[0;36m, line \u001b[0;32m1\u001b[0m\n\u001b[0;31m    pilconvert -c TIF I_Really_Hate_Bath_Time96.jpg lena.tmp\u001b[0m\n\u001b[0m                    ^\u001b[0m\n\u001b[0;31mSyntaxError\u001b[0m\u001b[0;31m:\u001b[0m invalid syntax\n"
       ]
      }
     ],
     "prompt_number": 46
    },
    {
     "cell_type": "code",
     "collapsed": false,
     "input": [
      "pilfile -t *.tif"
     ],
     "language": "python",
     "metadata": {},
     "outputs": [
      {
       "ename": "SyntaxError",
       "evalue": "invalid syntax (<ipython-input-47-be41a0f6b22e>, line 1)",
       "output_type": "pyerr",
       "traceback": [
        "\u001b[0;36m  File \u001b[0;32m\"<ipython-input-47-be41a0f6b22e>\"\u001b[0;36m, line \u001b[0;32m1\u001b[0m\n\u001b[0;31m    pilfile -t *.tif\u001b[0m\n\u001b[0m                ^\u001b[0m\n\u001b[0;31mSyntaxError\u001b[0m\u001b[0;31m:\u001b[0m invalid syntax\n"
       ]
      }
     ],
     "prompt_number": 47
    },
    {
     "cell_type": "code",
     "collapsed": false,
     "input": [
      "import Image\n",
      "im = Image.open(\"I_Really_Hate_Bath_Time96.jpg\")"
     ],
     "language": "python",
     "metadata": {},
     "outputs": [],
     "prompt_number": 49
    },
    {
     "cell_type": "code",
     "collapsed": false,
     "input": [
      "im.show()"
     ],
     "language": "python",
     "metadata": {},
     "outputs": [],
     "prompt_number": 50
    },
    {
     "cell_type": "code",
     "collapsed": false,
     "input": [
      "print \"original =\", im.mode, im.size"
     ],
     "language": "python",
     "metadata": {},
     "outputs": [
      {
       "output_type": "stream",
       "stream": "stdout",
       "text": [
        "original = RGB (600, 800)\n"
       ]
      }
     ],
     "prompt_number": 51
    },
    {
     "cell_type": "code",
     "collapsed": false,
     "input": [
      "im.mode?"
     ],
     "language": "python",
     "metadata": {},
     "outputs": [],
     "prompt_number": 55
    },
    {
     "cell_type": "code",
     "collapsed": false,
     "input": [
      "im.format"
     ],
     "language": "python",
     "metadata": {},
     "outputs": [
      {
       "metadata": {},
       "output_type": "pyout",
       "prompt_number": 53,
       "text": [
        "'JPEG'"
       ]
      }
     ],
     "prompt_number": 53
    },
    {
     "cell_type": "code",
     "collapsed": false,
     "input": [
      "im."
     ],
     "language": "python",
     "metadata": {},
     "outputs": [],
     "prompt_number": 56
    },
    {
     "cell_type": "code",
     "collapsed": false,
     "input": [
      "!ls"
     ],
     "language": "python",
     "metadata": {},
     "outputs": [
      {
       "output_type": "stream",
       "stream": "stdout",
       "text": [
        "A quick tour of IPython Notebook.ipynb \u001b[34mPictures\u001b[m\u001b[m\r\n",
        "AT.postflight.1283                     \u001b[34mPublic\u001b[m\u001b[m\r\n",
        "AT.postflight.905                      \u001b[34mRabbit\u001b[m\u001b[m\r\n",
        "\u001b[34mApplications\u001b[m\u001b[m                           Requests.ipynb\r\n",
        "Arduino_pyserial.ipynb                 \u001b[34mSites\u001b[m\u001b[m\r\n",
        "BITalino.ipynb                         Stats Model Example.ipynb\r\n",
        "BitalinoOSX.ipynb                      Untitled1.ipynb\r\n",
        "\u001b[34mBox Sync\u001b[m\u001b[m                               \u001b[34mUppercaseMaker\u001b[m\u001b[m\r\n",
        "\u001b[34mBox Sync (backup)\u001b[m\u001b[m                      \u001b[34mVirtualBox VMs\u001b[m\u001b[m\r\n",
        "Brightness.ipynb                       \u001b[34manaconda\u001b[m\u001b[m\r\n",
        "\u001b[34mCopy\u001b[m\u001b[m                                   \u001b[34marduino-api\u001b[m\u001b[m\r\n",
        "\u001b[34mDesktop\u001b[m\u001b[m                                domino.log\r\n",
        "\u001b[34mDocuments\u001b[m\u001b[m                              \u001b[34mflask-workshop\u001b[m\u001b[m\r\n",
        "\u001b[34mDownloads\u001b[m\u001b[m                              hackingBrightness.ipynb\r\n",
        "\u001b[34mDropbox\u001b[m\u001b[m                                hug_me.tiff\r\n",
        "Flask.ipynb                            hug_your_cat_day.jpg\r\n",
        "\u001b[34mLibrary\u001b[m\u001b[m                                \u001b[34mlabstreaminglayer\u001b[m\u001b[m\r\n",
        "\u001b[34mMovies\u001b[m\u001b[m                                 list.txt\r\n",
        "\u001b[34mMusic\u001b[m\u001b[m                                  plotingData.ipynb\r\n",
        "Numpy.ipynb                            psychopy.ipynb\r\n",
        "OpenTechSchool.ipynb                   pyserial list ports.ipynb\r\n",
        "PR4E_4.6.ipynb                         \u001b[34mrstudio-diagnostics\u001b[m\u001b[m\r\n",
        "Pandas%20%2B%20Plotly.ipynb            shopping_list.ipynb\r\n",
        "Pandas_Plotly.ipynb                    \u001b[34mtutorial\u001b[m\u001b[m\r\n"
       ]
      }
     ],
     "prompt_number": 1
    },
    {
     "cell_type": "code",
     "collapsed": false,
     "input": [
      "my_list = [i**2 for i in range(1,11)]\n",
      "# Generates a list of squares of the numbers 1 - 10\n",
      "\n",
      "f = open(\"output.txt\", \"w\")\n",
      "\n",
      "for item in my_list:\n",
      "    f.write(str(item) + \"\\n\")\n",
      "\n",
      "f.close()"
     ],
     "language": "python",
     "metadata": {},
     "outputs": []
    },
    {
     "cell_type": "code",
     "collapsed": false,
     "input": [
      "with open('text.txt','w') as my_file:\n",
      "    my_file.write('all the good men')"
     ],
     "language": "python",
     "metadata": {},
     "outputs": []
    }
   ],
   "metadata": {}
  }
 ]
}