{
 "metadata": {
  "name": ""
 },
 "nbformat": 3,
 "nbformat_minor": 0,
 "worksheets": [
  {
   "cells": [
    {
     "cell_type": "code",
     "collapsed": false,
     "input": [
      "cd '/Users/Wintermute/flask-workshop/static'"
     ],
     "language": "python",
     "metadata": {},
     "outputs": [
      {
       "output_type": "stream",
       "stream": "stdout",
       "text": [
        "/Users/Wintermute/flask-workshop/static\n"
       ]
      }
     ],
     "prompt_number": 15
    },
    {
     "cell_type": "code",
     "collapsed": false,
     "input": [
      "import os\n",
      "import os.path\n",
      "\n",
      "folder = '/Users/Wintermute/flask-workshop/static'\n",
      "\n",
      "file_list = []\n",
      "for dirpath, dirnames, filenames in os.walk(folder):\n",
      "    for filename in [f for f in filenames if f.endswith(\".jpg\")]:\n",
      "        file_list.append(os.path.join(dirpath, filename))\n",
      "\n",
      "for item in file_list:\n",
      "    print item"
     ],
     "language": "python",
     "metadata": {},
     "outputs": [
      {
       "output_type": "stream",
       "stream": "stdout",
       "text": [
        "/Users/Wintermute/flask-workshop/static/I_Really_Hate_Bath_Time96.jpg\n",
        "/Users/Wintermute/flask-workshop/static/I_See_That84.jpg\n",
        "/Users/Wintermute/flask-workshop/static/Im_Doing_Some_Work.jpg\n",
        "/Users/Wintermute/flask-workshop/static/Listening_To_Musics.jpg\n",
        "/Users/Wintermute/flask-workshop/static/Mewbacca.jpg\n"
       ]
      }
     ],
     "prompt_number": 17
    },
    {
     "cell_type": "code",
     "collapsed": false,
     "input": [
      "from PIL import Image\n",
      "import csv\n",
      "import matplotlib.image as mpl\n",
      "\n",
      "for item in file_list:\n",
      "    imag = Image.open(item)\n",
      "    imag.show()"
     ],
     "language": "python",
     "metadata": {},
     "outputs": [],
     "prompt_number": 18
    },
    {
     "cell_type": "code",
     "collapsed": false,
     "input": [
      "import numpy as np\n",
      "for item in file_list:\n",
      "    imag = Image.open(item)\n",
      "print 'mean is:', round(np.mean(imag)), ', median is:',np.median(imag)"
     ],
     "language": "python",
     "metadata": {},
     "outputs": [
      {
       "output_type": "stream",
       "stream": "stdout",
       "text": [
        "mean is: 81.0"
       ]
      },
      {
       "output_type": "stream",
       "stream": "stdout",
       "text": [
        " , median is: 66.0\n"
       ]
      }
     ],
     "prompt_number": 28
    },
    {
     "cell_type": "code",
     "collapsed": false,
     "input": [
      "from PIL import Image\n",
      "import csv\n",
      "import matplotlib.image as mpl\n",
      "import numpy as np\n",
      "   \n",
      "with open('brightness.csv', 'wb') as csvfile:\n",
      "    for item in file_list:\n",
      "        fname =  item\n",
      "        mean_brightness = round(np.mean(imag))\n",
      "        imag = Image.open(fname)\n",
      "        brightness_writer = csv.writer(csvfile, delimiter=',',quotechar='\"', quoting=csv.QUOTE_MINIMAL)\n",
      "        brightness_writer.writerow([item] + [mean_brightness])\n"
     ],
     "language": "python",
     "metadata": {},
     "outputs": [],
     "prompt_number": 30
    },
    {
     "cell_type": "code",
     "collapsed": false,
     "input": [
      "brightness = {}\n",
      "with open('brightness.csv', 'r') as infile:\n",
      "    for line in infile:\n",
      "        brightness[line.split(',')[0]] = float(line.split(',')[1].strip())\n",
      "        \n",
      "print brightness.items()\n",
      "    "
     ],
     "language": "python",
     "metadata": {},
     "outputs": [
      {
       "output_type": "stream",
       "stream": "stdout",
       "text": [
        "[('/Users/Wintermute/flask-workshop/static/Mewbacca.jpg', 99.0), ('/Users/Wintermute/flask-workshop/static/Listening_To_Musics.jpg', 116.0), ('/Users/Wintermute/flask-workshop/static/Im_Doing_Some_Work.jpg', 57.0), ('/Users/Wintermute/flask-workshop/static/I_Really_Hate_Bath_Time96.jpg', 81.0), ('/Users/Wintermute/flask-workshop/static/I_See_That84.jpg', 95.0)]\n"
       ]
      }
     ],
     "prompt_number": 33
    },
    {
     "cell_type": "code",
     "collapsed": false,
     "input": [],
     "language": "python",
     "metadata": {},
     "outputs": [
      {
       "ename": "AttributeError",
       "evalue": "'module' object has no attribute 'plot'",
       "output_type": "pyerr",
       "traceback": [
        "\u001b[0;31m---------------------------------------------------------------------------\u001b[0m\n\u001b[0;31mAttributeError\u001b[0m                            Traceback (most recent call last)",
        "\u001b[0;32m<ipython-input-36-26273f10c3f1>\u001b[0m in \u001b[0;36m<module>\u001b[0;34m()\u001b[0m\n\u001b[0;32m----> 1\u001b[0;31m \u001b[0mmpl\u001b[0m\u001b[0;34m.\u001b[0m\u001b[0mplot\u001b[0m\u001b[0;34m(\u001b[0m\u001b[0mbrightness\u001b[0m\u001b[0;34m)\u001b[0m\u001b[0;34m\u001b[0m\u001b[0m\n\u001b[0m",
        "\u001b[0;31mAttributeError\u001b[0m: 'module' object has no attribute 'plot'"
       ]
      }
     ],
     "prompt_number": 36
    },
    {
     "cell_type": "code",
     "collapsed": false,
     "input": [
      "%matplotlib inline\n",
      "for picture,bright in brightness.items():\n",
      "    print bright, picture,'\\n'\n",
      "    imag = Image.open(picture)\n",
      "    print imag\n",
      "    \n",
      "    "
     ],
     "language": "python",
     "metadata": {},
     "outputs": [
      {
       "output_type": "stream",
       "stream": "stdout",
       "text": [
        "99.0 /Users/Wintermute/flask-workshop/static/Mewbacca.jpg \n",
        "\n",
        "<PIL.JpegImagePlugin.JpegImageFile image mode=RGB size=600x933 at 0x1053B7368>\n",
        "116.0 /Users/Wintermute/flask-workshop/static/Listening_To_Musics.jpg \n",
        "\n",
        "<PIL.JpegImagePlugin.JpegImageFile image mode=RGB size=600x450 at 0x1053B7440>\n",
        "57.0 /Users/Wintermute/flask-workshop/static/Im_Doing_Some_Work.jpg \n",
        "\n",
        "<PIL.JpegImagePlugin.JpegImageFile image mode=RGB size=600x803 at 0x1053B73F8>\n",
        "81.0 /Users/Wintermute/flask-workshop/static/I_Really_Hate_Bath_Time96.jpg \n",
        "\n",
        "<PIL.JpegImagePlugin.JpegImageFile image mode=RGB size=600x800 at 0x1053B7368>\n",
        "95.0 /Users/Wintermute/flask-workshop/static/I_See_That84.jpg \n",
        "\n",
        "<PIL.JpegImagePlugin.JpegImageFile image mode=RGB size=600x397 at 0x1053B7440>\n"
       ]
      }
     ],
     "prompt_number": 67
    },
    {
     "cell_type": "code",
     "collapsed": false,
     "input": [],
     "language": "python",
     "metadata": {},
     "outputs": []
    }
   ],
   "metadata": {}
  }
 ]
}